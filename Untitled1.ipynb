{
 "cells": [
  {
   "cell_type": "code",
   "execution_count": 1,
   "id": "73511b76",
   "metadata": {},
   "outputs": [
    {
     "name": "stdout",
     "output_type": "stream",
     "text": [
      "[2002, 2009, 2016, 2023, 2037, 2044, 2051, 2058, 2072, 2079, 2086, 2093, 2107, 2114, 2121, 2128, 2142, 2149, 2156, 2163, 2177, 2184, 2191, 2198, 2212, 2219, 2226, 2233, 2247, 2254, 2261, 2268, 2282, 2289, 2296, 2303, 2317, 2324, 2331, 2338, 2352, 2359, 2366, 2373, 2387, 2394, 2401, 2408, 2422, 2429, 2436, 2443, 2457, 2464, 2471, 2478, 2492, 2499, 2506, 2513, 2527, 2534, 2541, 2548, 2562, 2569, 2576, 2583, 2597, 2604, 2611, 2618, 2632, 2639, 2646, 2653, 2667, 2674, 2681, 2688, 2702, 2709, 2716, 2723, 2737, 2744, 2751, 2758, 2772, 2779, 2786, 2793, 2807, 2814, 2821, 2828, 2842, 2849, 2856, 2863, 2877, 2884, 2891, 2898, 2912, 2919, 2926, 2933, 2947, 2954, 2961, 2968, 2982, 2989, 2996, 3003, 3017, 3024, 3031, 3038, 3052, 3059, 3066, 3073, 3087, 3094, 3101, 3108, 3122, 3129, 3136, 3143, 3157, 3164, 3171, 3178, 3192, 3199]\n"
     ]
    }
   ],
   "source": [
    "divisible_by_7_not_multiple_of_5 = []\n",
    "\n",
    "for num in range(2000, 3201):\n",
    "    if num % 7 == 0 and num % 5 != 0:\n",
    "        divisible_by_7_not_multiple_of_5.append(num)\n",
    "\n",
    "print(divisible_by_7_not_multiple_of_5)\n"
   ]
  },
  {
   "cell_type": "code",
   "execution_count": 2,
   "id": "c1562b71",
   "metadata": {},
   "outputs": [
    {
     "name": "stdout",
     "output_type": "stream",
     "text": [
      "Enter a number: 5\n",
      "The factorial of 5 is 120\n"
     ]
    }
   ],
   "source": [
    "def factorial(n):\n",
    "    if n == 0:\n",
    "        return 1\n",
    "    else:\n",
    "        result = 1\n",
    "        for i in range(1, n + 1):\n",
    "            result *= i\n",
    "        return result\n",
    "\n",
    "number = int(input(\"Enter a number: \"))\n",
    "result = factorial(number)\n",
    "print(f\"The factorial of {number} is {result}\")\n",
    "\n"
   ]
  },
  {
   "cell_type": "code",
   "execution_count": 3,
   "id": "5050a0d1",
   "metadata": {},
   "outputs": [
    {
     "name": "stdout",
     "output_type": "stream",
     "text": [
      "Enter an integer number: 7\n",
      "{1: 1, 2: 4, 3: 9, 4: 16, 5: 25, 6: 36, 7: 49}\n"
     ]
    }
   ],
   "source": [
    "def generate_square_dictionary(n):\n",
    "    square_dict = {}\n",
    "    for i in range(1, n + 1):\n",
    "        square_dict[i] = i * i\n",
    "    return square_dict\n",
    "\n",
    "number = int(input(\"Enter an integer number: \"))\n",
    "result_dict = generate_square_dictionary(number)\n",
    "print(result_dict)\n"
   ]
  },
  {
   "cell_type": "code",
   "execution_count": 4,
   "id": "dcd39389",
   "metadata": {},
   "outputs": [
    {
     "name": "stdout",
     "output_type": "stream",
     "text": [
      "Enter a string: hello worl\n",
      "Enter the index to remove: 4\n",
      "Result: hell worl\n"
     ]
    }
   ],
   "source": [
    "def missing_char(string, n):\n",
    "    return string[:n] + string[n+1:]\n",
    "\n",
    "input_string = input(\"Enter a string: \")\n",
    "index = int(input(\"Enter the index to remove: \"))\n",
    "result = missing_char(input_string, index)\n",
    "print(\"Result:\", result)\n"
   ]
  },
  {
   "cell_type": "code",
   "execution_count": 5,
   "id": "52f87412",
   "metadata": {},
   "outputs": [
    {
     "name": "stdout",
     "output_type": "stream",
     "text": [
      "Original array elements: [[0 1]\n",
      " [2 3]\n",
      " [4 5]]\n",
      "Array to list: [[0, 1], [2, 3], [4, 5]]\n"
     ]
    }
   ],
   "source": [
    "import numpy as np\n",
    "\n",
    "# Create a NumPy array\n",
    "original_array = np.array([[0, 1], [2, 3], [4, 5]])\n",
    "\n",
    "# Convert the NumPy array to a Python list\n",
    "list_structure = original_array.tolist()\n",
    "\n",
    "# Print the original array and the converted list\n",
    "print(\"Original array elements:\", original_array)\n",
    "print(\"Array to list:\", list_structure)\n"
   ]
  },
  {
   "cell_type": "code",
   "execution_count": 6,
   "id": "69604fbc",
   "metadata": {},
   "outputs": [
    {
     "name": "stdout",
     "output_type": "stream",
     "text": [
      "Original array1: [0 1 2]\n",
      "Original array2: [2 1 0]\n",
      "Covariance matrix of the said arrays:\n",
      "[[ 1. -1.]\n",
      " [-1.  1.]]\n"
     ]
    }
   ],
   "source": [
    "import numpy as np\n",
    "\n",
    "# Create the original arrays\n",
    "array1 = np.array([0, 1, 2])\n",
    "array2 = np.array([2, 1, 0])\n",
    "\n",
    "# Calculate the covariance matrix using np.cov()\n",
    "covariance_matrix = np.cov(array1, array2)\n",
    "\n",
    "# Print the original arrays and the covariance matrix\n",
    "print(\"Original array1:\", array1)\n",
    "print(\"Original array2:\", array2)\n",
    "print(\"Covariance matrix of the said arrays:\")\n",
    "print(covariance_matrix)\n"
   ]
  },
  {
   "cell_type": "code",
   "execution_count": 7,
   "id": "cbb9cc21",
   "metadata": {},
   "outputs": [
    {
     "name": "stdout",
     "output_type": "stream",
     "text": [
      "Enter comma-separated values of D: 5,6\n",
      "Output: 4, 4\n"
     ]
    }
   ],
   "source": [
    "import math\n",
    "\n",
    "C = 50\n",
    "H = 30\n",
    "\n",
    "input_values = input(\"Enter comma-separated values of D: \")\n",
    "D_values = input_values.split(\",\")\n",
    "\n",
    "result_values = []\n",
    "\n",
    "for D in D_values:\n",
    "    Q = math.sqrt((2 * C * int(D)) / H)\n",
    "    result_values.append(round(Q))\n",
    "\n",
    "result_string = \", \".join(map(str, result_values))\n",
    "print(\"Output:\", result_string)\n",
    "\n"
   ]
  },
  {
   "cell_type": "code",
   "execution_count": null,
   "id": "ded20835",
   "metadata": {},
   "outputs": [],
   "source": []
  }
 ],
 "metadata": {
  "kernelspec": {
   "display_name": "Python 3 (ipykernel)",
   "language": "python",
   "name": "python3"
  },
  "language_info": {
   "codemirror_mode": {
    "name": "ipython",
    "version": 3
   },
   "file_extension": ".py",
   "mimetype": "text/x-python",
   "name": "python",
   "nbconvert_exporter": "python",
   "pygments_lexer": "ipython3",
   "version": "3.11.3"
  }
 },
 "nbformat": 4,
 "nbformat_minor": 5
}
